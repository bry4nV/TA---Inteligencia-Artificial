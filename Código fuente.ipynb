{
  "cells": [
    {
      "cell_type": "markdown",
      "metadata": {
        "id": "ffjv-VKFBlL4"
      },
      "source": [
        "# Detección de enfermedades cardíacas con Machine Learning\n",
        "Grupo 1 - Tarea Académica - Inteligencia Artificial\n",
        "\n",
        "Integrantes:\n",
        "- Daysi Campos Fernández\n",
        "- Josué Altamirano Mendiola\n",
        "- Joshua Haro Capcha\n",
        "- Bryan Smith Valdiviezo Jiménez\n",
        "- Kevin Diaz Mendieta\n"
      ]
    },
    {
      "cell_type": "code",
      "execution_count": null,
      "metadata": {
        "id": "atX9ORlTOOVw",
        "colab": {
          "base_uri": "https://localhost:8080/"
        },
        "outputId": "c28591a7-f77f-45b0-9b09-344e86bb45c1"
      },
      "outputs": [
        {
          "output_type": "stream",
          "name": "stdout",
          "text": [
            "Requirement already satisfied: skrebate in /usr/local/lib/python3.10/dist-packages (0.62)\n",
            "Requirement already satisfied: numpy in /usr/local/lib/python3.10/dist-packages (from skrebate) (1.26.4)\n",
            "Requirement already satisfied: scipy in /usr/local/lib/python3.10/dist-packages (from skrebate) (1.13.1)\n",
            "Requirement already satisfied: scikit-learn in /usr/local/lib/python3.10/dist-packages (from skrebate) (1.5.2)\n",
            "Requirement already satisfied: joblib>=1.2.0 in /usr/local/lib/python3.10/dist-packages (from scikit-learn->skrebate) (1.4.2)\n",
            "Requirement already satisfied: threadpoolctl>=3.1.0 in /usr/local/lib/python3.10/dist-packages (from scikit-learn->skrebate) (3.5.0)\n"
          ]
        }
      ],
      "source": [
        "# Cargar librerias y modulos\n",
        "import pandas as pd\n",
        "import numpy as np\n",
        "import matplotlib.pyplot as plt\n",
        "!pip install skrebate\n",
        "\n",
        "from sklearn.feature_selection import SelectKBest   # para seleccionar atributos de forma univariada (filtros)\n",
        "from sklearn.feature_selection import chi2   # estadististica para evaluar la importancia de atributos en relacion al target\n",
        "from sklearn.feature_selection import RFE    # metodo recursive featute elimination\n",
        "from sklearn.decomposition import PCA        # para transformacion PCA\n",
        "from sklearn.pipeline import make_pipeline\n",
        "from sklearn.preprocessing import MinMaxScaler\n",
        "\n",
        "from sklearn.linear_model import LogisticRegression # para usar modelos de regresion logistica\n",
        "from sklearn.tree import DecisionTreeClassifier     # para usar modelos de tipo arboles de decision\n",
        "from sklearn.ensemble import RandomForestClassifier, GradientBoostingClassifier, AdaBoostClassifier\n",
        "from sklearn.neighbors import KNeighborsClassifier  # para modelos  Knn\n",
        "from xgboost import XGBClassifier\n",
        "\n",
        "from sklearn.model_selection import train_test_split  # para partir los datos en conjuntos de entrenamiento y validacion\n",
        "from sklearn.model_selection import KFold  # para partir la data en k-folds\n",
        "from sklearn.model_selection import cross_val_score   # para evaluar algoritmos en cross validacion\n",
        "\n",
        "from sklearn.metrics import accuracy_score, f1_score, recall_score, precision_score, make_scorer, balanced_accuracy_score  # para manejar metricas de desempeño\n",
        "from sklearn.metrics import classification_report  # para hacer reportes de resultados de clasificacion\n",
        "from sklearn.metrics import confusion_matrix  # para manejar matrices de confusion\n",
        "from sklearn.metrics import jaccard_score  # indice jacard\n",
        "from skrebate import ReliefF\n",
        "from typing import Any\n",
        "import warnings\n",
        "warnings.filterwarnings(\"ignore\")"
      ]
    },
    {
      "cell_type": "markdown",
      "metadata": {
        "id": "NisIL3IwOOVx"
      },
      "source": [
        "Cargar dataset de **Cardiovascular_Disease_Dataset.csv**"
      ]
    },
    {
      "cell_type": "code",
      "execution_count": null,
      "metadata": {
        "colab": {
          "base_uri": "https://localhost:8080/"
        },
        "id": "RT4lWbp3OOVx",
        "outputId": "ecbd5a0b-12ca-4b8a-8155-f8fd7384d4b8"
      },
      "outputs": [
        {
          "output_type": "stream",
          "name": "stdout",
          "text": [
            "Training: 750 ejemplos. Validation: 250 ejemplos\n"
          ]
        }
      ],
      "source": [
        "dataset = pd.read_csv('Cardiovascular_Disease_Dataset.csv', index_col = 0, sep = ',')\n",
        "\n",
        "# separa el dataset en atributos (X)  y  target (y)\n",
        "x = dataset.drop(columns=['target'])\n",
        "y = dataset['target']\n",
        "\n",
        "# realiza el train-test split\n",
        "vadid_fraction = 0.25\n",
        "seed = 42\n",
        "x_train, x_test, y_train, y_test = train_test_split(x, y, test_size=vadid_fraction, random_state=seed)\n",
        "\n",
        "print('Training: %d ejemplos. Validation: %d ejemplos' % (len(y_train), len(y_test)))"
      ]
    },
    {
      "cell_type": "code",
      "source": [
        "dataset.head()"
      ],
      "metadata": {
        "colab": {
          "base_uri": "https://localhost:8080/",
          "height": 257
        },
        "id": "y2SylbJDewOE",
        "outputId": "017ee546-28ad-4d90-84c5-d03304e9a0f6"
      },
      "execution_count": null,
      "outputs": [
        {
          "output_type": "execute_result",
          "data": {
            "text/plain": [
              "           age  gender  chestpain  restingBP  serumcholestrol  \\\n",
              "patientid                                                       \n",
              "103368      53       1          2        171                0   \n",
              "119250      40       1          0         94              229   \n",
              "119372      49       1          2        133              142   \n",
              "132514      43       1          0        138              295   \n",
              "146211      31       1          1        199                0   \n",
              "\n",
              "           fastingbloodsugar  restingrelectro  maxheartrate  exerciseangia  \\\n",
              "patientid                                                                    \n",
              "103368                     0                1           147              0   \n",
              "119250                     0                1           115              0   \n",
              "119372                     0                0           202              1   \n",
              "132514                     1                1           153              0   \n",
              "146211                     0                2           136              0   \n",
              "\n",
              "           oldpeak  slope  noofmajorvessels  target  \n",
              "patientid                                            \n",
              "103368         5.3      3                 3       1  \n",
              "119250         3.7      1                 1       0  \n",
              "119372         5.0      1                 0       0  \n",
              "132514         3.2      2                 2       1  \n",
              "146211         5.3      3                 2       1  "
            ],
            "text/html": [
              "\n",
              "  <div id=\"df-215291ca-1cc5-44d2-a511-13a3b35b9fb9\" class=\"colab-df-container\">\n",
              "    <div>\n",
              "<style scoped>\n",
              "    .dataframe tbody tr th:only-of-type {\n",
              "        vertical-align: middle;\n",
              "    }\n",
              "\n",
              "    .dataframe tbody tr th {\n",
              "        vertical-align: top;\n",
              "    }\n",
              "\n",
              "    .dataframe thead th {\n",
              "        text-align: right;\n",
              "    }\n",
              "</style>\n",
              "<table border=\"1\" class=\"dataframe\">\n",
              "  <thead>\n",
              "    <tr style=\"text-align: right;\">\n",
              "      <th></th>\n",
              "      <th>age</th>\n",
              "      <th>gender</th>\n",
              "      <th>chestpain</th>\n",
              "      <th>restingBP</th>\n",
              "      <th>serumcholestrol</th>\n",
              "      <th>fastingbloodsugar</th>\n",
              "      <th>restingrelectro</th>\n",
              "      <th>maxheartrate</th>\n",
              "      <th>exerciseangia</th>\n",
              "      <th>oldpeak</th>\n",
              "      <th>slope</th>\n",
              "      <th>noofmajorvessels</th>\n",
              "      <th>target</th>\n",
              "    </tr>\n",
              "    <tr>\n",
              "      <th>patientid</th>\n",
              "      <th></th>\n",
              "      <th></th>\n",
              "      <th></th>\n",
              "      <th></th>\n",
              "      <th></th>\n",
              "      <th></th>\n",
              "      <th></th>\n",
              "      <th></th>\n",
              "      <th></th>\n",
              "      <th></th>\n",
              "      <th></th>\n",
              "      <th></th>\n",
              "      <th></th>\n",
              "    </tr>\n",
              "  </thead>\n",
              "  <tbody>\n",
              "    <tr>\n",
              "      <th>103368</th>\n",
              "      <td>53</td>\n",
              "      <td>1</td>\n",
              "      <td>2</td>\n",
              "      <td>171</td>\n",
              "      <td>0</td>\n",
              "      <td>0</td>\n",
              "      <td>1</td>\n",
              "      <td>147</td>\n",
              "      <td>0</td>\n",
              "      <td>5.3</td>\n",
              "      <td>3</td>\n",
              "      <td>3</td>\n",
              "      <td>1</td>\n",
              "    </tr>\n",
              "    <tr>\n",
              "      <th>119250</th>\n",
              "      <td>40</td>\n",
              "      <td>1</td>\n",
              "      <td>0</td>\n",
              "      <td>94</td>\n",
              "      <td>229</td>\n",
              "      <td>0</td>\n",
              "      <td>1</td>\n",
              "      <td>115</td>\n",
              "      <td>0</td>\n",
              "      <td>3.7</td>\n",
              "      <td>1</td>\n",
              "      <td>1</td>\n",
              "      <td>0</td>\n",
              "    </tr>\n",
              "    <tr>\n",
              "      <th>119372</th>\n",
              "      <td>49</td>\n",
              "      <td>1</td>\n",
              "      <td>2</td>\n",
              "      <td>133</td>\n",
              "      <td>142</td>\n",
              "      <td>0</td>\n",
              "      <td>0</td>\n",
              "      <td>202</td>\n",
              "      <td>1</td>\n",
              "      <td>5.0</td>\n",
              "      <td>1</td>\n",
              "      <td>0</td>\n",
              "      <td>0</td>\n",
              "    </tr>\n",
              "    <tr>\n",
              "      <th>132514</th>\n",
              "      <td>43</td>\n",
              "      <td>1</td>\n",
              "      <td>0</td>\n",
              "      <td>138</td>\n",
              "      <td>295</td>\n",
              "      <td>1</td>\n",
              "      <td>1</td>\n",
              "      <td>153</td>\n",
              "      <td>0</td>\n",
              "      <td>3.2</td>\n",
              "      <td>2</td>\n",
              "      <td>2</td>\n",
              "      <td>1</td>\n",
              "    </tr>\n",
              "    <tr>\n",
              "      <th>146211</th>\n",
              "      <td>31</td>\n",
              "      <td>1</td>\n",
              "      <td>1</td>\n",
              "      <td>199</td>\n",
              "      <td>0</td>\n",
              "      <td>0</td>\n",
              "      <td>2</td>\n",
              "      <td>136</td>\n",
              "      <td>0</td>\n",
              "      <td>5.3</td>\n",
              "      <td>3</td>\n",
              "      <td>2</td>\n",
              "      <td>1</td>\n",
              "    </tr>\n",
              "  </tbody>\n",
              "</table>\n",
              "</div>\n",
              "    <div class=\"colab-df-buttons\">\n",
              "\n",
              "  <div class=\"colab-df-container\">\n",
              "    <button class=\"colab-df-convert\" onclick=\"convertToInteractive('df-215291ca-1cc5-44d2-a511-13a3b35b9fb9')\"\n",
              "            title=\"Convert this dataframe to an interactive table.\"\n",
              "            style=\"display:none;\">\n",
              "\n",
              "  <svg xmlns=\"http://www.w3.org/2000/svg\" height=\"24px\" viewBox=\"0 -960 960 960\">\n",
              "    <path d=\"M120-120v-720h720v720H120Zm60-500h600v-160H180v160Zm220 220h160v-160H400v160Zm0 220h160v-160H400v160ZM180-400h160v-160H180v160Zm440 0h160v-160H620v160ZM180-180h160v-160H180v160Zm440 0h160v-160H620v160Z\"/>\n",
              "  </svg>\n",
              "    </button>\n",
              "\n",
              "  <style>\n",
              "    .colab-df-container {\n",
              "      display:flex;\n",
              "      gap: 12px;\n",
              "    }\n",
              "\n",
              "    .colab-df-convert {\n",
              "      background-color: #E8F0FE;\n",
              "      border: none;\n",
              "      border-radius: 50%;\n",
              "      cursor: pointer;\n",
              "      display: none;\n",
              "      fill: #1967D2;\n",
              "      height: 32px;\n",
              "      padding: 0 0 0 0;\n",
              "      width: 32px;\n",
              "    }\n",
              "\n",
              "    .colab-df-convert:hover {\n",
              "      background-color: #E2EBFA;\n",
              "      box-shadow: 0px 1px 2px rgba(60, 64, 67, 0.3), 0px 1px 3px 1px rgba(60, 64, 67, 0.15);\n",
              "      fill: #174EA6;\n",
              "    }\n",
              "\n",
              "    .colab-df-buttons div {\n",
              "      margin-bottom: 4px;\n",
              "    }\n",
              "\n",
              "    [theme=dark] .colab-df-convert {\n",
              "      background-color: #3B4455;\n",
              "      fill: #D2E3FC;\n",
              "    }\n",
              "\n",
              "    [theme=dark] .colab-df-convert:hover {\n",
              "      background-color: #434B5C;\n",
              "      box-shadow: 0px 1px 3px 1px rgba(0, 0, 0, 0.15);\n",
              "      filter: drop-shadow(0px 1px 2px rgba(0, 0, 0, 0.3));\n",
              "      fill: #FFFFFF;\n",
              "    }\n",
              "  </style>\n",
              "\n",
              "    <script>\n",
              "      const buttonEl =\n",
              "        document.querySelector('#df-215291ca-1cc5-44d2-a511-13a3b35b9fb9 button.colab-df-convert');\n",
              "      buttonEl.style.display =\n",
              "        google.colab.kernel.accessAllowed ? 'block' : 'none';\n",
              "\n",
              "      async function convertToInteractive(key) {\n",
              "        const element = document.querySelector('#df-215291ca-1cc5-44d2-a511-13a3b35b9fb9');\n",
              "        const dataTable =\n",
              "          await google.colab.kernel.invokeFunction('convertToInteractive',\n",
              "                                                    [key], {});\n",
              "        if (!dataTable) return;\n",
              "\n",
              "        const docLinkHtml = 'Like what you see? Visit the ' +\n",
              "          '<a target=\"_blank\" href=https://colab.research.google.com/notebooks/data_table.ipynb>data table notebook</a>'\n",
              "          + ' to learn more about interactive tables.';\n",
              "        element.innerHTML = '';\n",
              "        dataTable['output_type'] = 'display_data';\n",
              "        await google.colab.output.renderOutput(dataTable, element);\n",
              "        const docLink = document.createElement('div');\n",
              "        docLink.innerHTML = docLinkHtml;\n",
              "        element.appendChild(docLink);\n",
              "      }\n",
              "    </script>\n",
              "  </div>\n",
              "\n",
              "\n",
              "<div id=\"df-196e3210-4c85-4363-b31d-1c90ca2fe6c3\">\n",
              "  <button class=\"colab-df-quickchart\" onclick=\"quickchart('df-196e3210-4c85-4363-b31d-1c90ca2fe6c3')\"\n",
              "            title=\"Suggest charts\"\n",
              "            style=\"display:none;\">\n",
              "\n",
              "<svg xmlns=\"http://www.w3.org/2000/svg\" height=\"24px\"viewBox=\"0 0 24 24\"\n",
              "     width=\"24px\">\n",
              "    <g>\n",
              "        <path d=\"M19 3H5c-1.1 0-2 .9-2 2v14c0 1.1.9 2 2 2h14c1.1 0 2-.9 2-2V5c0-1.1-.9-2-2-2zM9 17H7v-7h2v7zm4 0h-2V7h2v10zm4 0h-2v-4h2v4z\"/>\n",
              "    </g>\n",
              "</svg>\n",
              "  </button>\n",
              "\n",
              "<style>\n",
              "  .colab-df-quickchart {\n",
              "      --bg-color: #E8F0FE;\n",
              "      --fill-color: #1967D2;\n",
              "      --hover-bg-color: #E2EBFA;\n",
              "      --hover-fill-color: #174EA6;\n",
              "      --disabled-fill-color: #AAA;\n",
              "      --disabled-bg-color: #DDD;\n",
              "  }\n",
              "\n",
              "  [theme=dark] .colab-df-quickchart {\n",
              "      --bg-color: #3B4455;\n",
              "      --fill-color: #D2E3FC;\n",
              "      --hover-bg-color: #434B5C;\n",
              "      --hover-fill-color: #FFFFFF;\n",
              "      --disabled-bg-color: #3B4455;\n",
              "      --disabled-fill-color: #666;\n",
              "  }\n",
              "\n",
              "  .colab-df-quickchart {\n",
              "    background-color: var(--bg-color);\n",
              "    border: none;\n",
              "    border-radius: 50%;\n",
              "    cursor: pointer;\n",
              "    display: none;\n",
              "    fill: var(--fill-color);\n",
              "    height: 32px;\n",
              "    padding: 0;\n",
              "    width: 32px;\n",
              "  }\n",
              "\n",
              "  .colab-df-quickchart:hover {\n",
              "    background-color: var(--hover-bg-color);\n",
              "    box-shadow: 0 1px 2px rgba(60, 64, 67, 0.3), 0 1px 3px 1px rgba(60, 64, 67, 0.15);\n",
              "    fill: var(--button-hover-fill-color);\n",
              "  }\n",
              "\n",
              "  .colab-df-quickchart-complete:disabled,\n",
              "  .colab-df-quickchart-complete:disabled:hover {\n",
              "    background-color: var(--disabled-bg-color);\n",
              "    fill: var(--disabled-fill-color);\n",
              "    box-shadow: none;\n",
              "  }\n",
              "\n",
              "  .colab-df-spinner {\n",
              "    border: 2px solid var(--fill-color);\n",
              "    border-color: transparent;\n",
              "    border-bottom-color: var(--fill-color);\n",
              "    animation:\n",
              "      spin 1s steps(1) infinite;\n",
              "  }\n",
              "\n",
              "  @keyframes spin {\n",
              "    0% {\n",
              "      border-color: transparent;\n",
              "      border-bottom-color: var(--fill-color);\n",
              "      border-left-color: var(--fill-color);\n",
              "    }\n",
              "    20% {\n",
              "      border-color: transparent;\n",
              "      border-left-color: var(--fill-color);\n",
              "      border-top-color: var(--fill-color);\n",
              "    }\n",
              "    30% {\n",
              "      border-color: transparent;\n",
              "      border-left-color: var(--fill-color);\n",
              "      border-top-color: var(--fill-color);\n",
              "      border-right-color: var(--fill-color);\n",
              "    }\n",
              "    40% {\n",
              "      border-color: transparent;\n",
              "      border-right-color: var(--fill-color);\n",
              "      border-top-color: var(--fill-color);\n",
              "    }\n",
              "    60% {\n",
              "      border-color: transparent;\n",
              "      border-right-color: var(--fill-color);\n",
              "    }\n",
              "    80% {\n",
              "      border-color: transparent;\n",
              "      border-right-color: var(--fill-color);\n",
              "      border-bottom-color: var(--fill-color);\n",
              "    }\n",
              "    90% {\n",
              "      border-color: transparent;\n",
              "      border-bottom-color: var(--fill-color);\n",
              "    }\n",
              "  }\n",
              "</style>\n",
              "\n",
              "  <script>\n",
              "    async function quickchart(key) {\n",
              "      const quickchartButtonEl =\n",
              "        document.querySelector('#' + key + ' button');\n",
              "      quickchartButtonEl.disabled = true;  // To prevent multiple clicks.\n",
              "      quickchartButtonEl.classList.add('colab-df-spinner');\n",
              "      try {\n",
              "        const charts = await google.colab.kernel.invokeFunction(\n",
              "            'suggestCharts', [key], {});\n",
              "      } catch (error) {\n",
              "        console.error('Error during call to suggestCharts:', error);\n",
              "      }\n",
              "      quickchartButtonEl.classList.remove('colab-df-spinner');\n",
              "      quickchartButtonEl.classList.add('colab-df-quickchart-complete');\n",
              "    }\n",
              "    (() => {\n",
              "      let quickchartButtonEl =\n",
              "        document.querySelector('#df-196e3210-4c85-4363-b31d-1c90ca2fe6c3 button');\n",
              "      quickchartButtonEl.style.display =\n",
              "        google.colab.kernel.accessAllowed ? 'block' : 'none';\n",
              "    })();\n",
              "  </script>\n",
              "</div>\n",
              "\n",
              "    </div>\n",
              "  </div>\n"
            ],
            "application/vnd.google.colaboratory.intrinsic+json": {
              "type": "dataframe",
              "variable_name": "dataset",
              "summary": "{\n  \"name\": \"dataset\",\n  \"rows\": 1000,\n  \"fields\": [\n    {\n      \"column\": \"patientid\",\n      \"properties\": {\n        \"dtype\": \"number\",\n        \"std\": 2895904,\n        \"min\": 103368,\n        \"max\": 9990855,\n        \"num_unique_values\": 1000,\n        \"samples\": [\n          5125568,\n          7527664,\n          7585452\n        ],\n        \"semantic_type\": \"\",\n        \"description\": \"\"\n      }\n    },\n    {\n      \"column\": \"age\",\n      \"properties\": {\n        \"dtype\": \"number\",\n        \"std\": 17,\n        \"min\": 20,\n        \"max\": 80,\n        \"num_unique_values\": 61,\n        \"samples\": [\n          53,\n          24,\n          60\n        ],\n        \"semantic_type\": \"\",\n        \"description\": \"\"\n      }\n    },\n    {\n      \"column\": \"gender\",\n      \"properties\": {\n        \"dtype\": \"number\",\n        \"std\": 0,\n        \"min\": 0,\n        \"max\": 1,\n        \"num_unique_values\": 2,\n        \"samples\": [\n          0,\n          1\n        ],\n        \"semantic_type\": \"\",\n        \"description\": \"\"\n      }\n    },\n    {\n      \"column\": \"chestpain\",\n      \"properties\": {\n        \"dtype\": \"number\",\n        \"std\": 0,\n        \"min\": 0,\n        \"max\": 3,\n        \"num_unique_values\": 4,\n        \"samples\": [\n          0,\n          3\n        ],\n        \"semantic_type\": \"\",\n        \"description\": \"\"\n      }\n    },\n    {\n      \"column\": \"restingBP\",\n      \"properties\": {\n        \"dtype\": \"number\",\n        \"std\": 29,\n        \"min\": 94,\n        \"max\": 200,\n        \"num_unique_values\": 95,\n        \"samples\": [\n          154,\n          191\n        ],\n        \"semantic_type\": \"\",\n        \"description\": \"\"\n      }\n    },\n    {\n      \"column\": \"serumcholestrol\",\n      \"properties\": {\n        \"dtype\": \"number\",\n        \"std\": 132,\n        \"min\": 0,\n        \"max\": 602,\n        \"num_unique_values\": 344,\n        \"samples\": [\n          470,\n          302\n        ],\n        \"semantic_type\": \"\",\n        \"description\": \"\"\n      }\n    },\n    {\n      \"column\": \"fastingbloodsugar\",\n      \"properties\": {\n        \"dtype\": \"number\",\n        \"std\": 0,\n        \"min\": 0,\n        \"max\": 1,\n        \"num_unique_values\": 2,\n        \"samples\": [\n          1,\n          0\n        ],\n        \"semantic_type\": \"\",\n        \"description\": \"\"\n      }\n    },\n    {\n      \"column\": \"restingrelectro\",\n      \"properties\": {\n        \"dtype\": \"number\",\n        \"std\": 0,\n        \"min\": 0,\n        \"max\": 2,\n        \"num_unique_values\": 3,\n        \"samples\": [\n          1,\n          0\n        ],\n        \"semantic_type\": \"\",\n        \"description\": \"\"\n      }\n    },\n    {\n      \"column\": \"maxheartrate\",\n      \"properties\": {\n        \"dtype\": \"number\",\n        \"std\": 34,\n        \"min\": 71,\n        \"max\": 202,\n        \"num_unique_values\": 129,\n        \"samples\": [\n          167,\n          108\n        ],\n        \"semantic_type\": \"\",\n        \"description\": \"\"\n      }\n    },\n    {\n      \"column\": \"exerciseangia\",\n      \"properties\": {\n        \"dtype\": \"number\",\n        \"std\": 0,\n        \"min\": 0,\n        \"max\": 1,\n        \"num_unique_values\": 2,\n        \"samples\": [\n          1,\n          0\n        ],\n        \"semantic_type\": \"\",\n        \"description\": \"\"\n      }\n    },\n    {\n      \"column\": \"oldpeak\",\n      \"properties\": {\n        \"dtype\": \"number\",\n        \"std\": 1.7207532367256217,\n        \"min\": 0.0,\n        \"max\": 6.2,\n        \"num_unique_values\": 63,\n        \"samples\": [\n          6.2,\n          4.0\n        ],\n        \"semantic_type\": \"\",\n        \"description\": \"\"\n      }\n    },\n    {\n      \"column\": \"slope\",\n      \"properties\": {\n        \"dtype\": \"number\",\n        \"std\": 1,\n        \"min\": 0,\n        \"max\": 3,\n        \"num_unique_values\": 4,\n        \"samples\": [\n          1,\n          0\n        ],\n        \"semantic_type\": \"\",\n        \"description\": \"\"\n      }\n    },\n    {\n      \"column\": \"noofmajorvessels\",\n      \"properties\": {\n        \"dtype\": \"number\",\n        \"std\": 0,\n        \"min\": 0,\n        \"max\": 3,\n        \"num_unique_values\": 4,\n        \"samples\": [\n          1,\n          2\n        ],\n        \"semantic_type\": \"\",\n        \"description\": \"\"\n      }\n    },\n    {\n      \"column\": \"target\",\n      \"properties\": {\n        \"dtype\": \"number\",\n        \"std\": 0,\n        \"min\": 0,\n        \"max\": 1,\n        \"num_unique_values\": 2,\n        \"samples\": [\n          0,\n          1\n        ],\n        \"semantic_type\": \"\",\n        \"description\": \"\"\n      }\n    }\n  ]\n}"
            }
          },
          "metadata": {},
          "execution_count": 37
        }
      ]
    },
    {
      "cell_type": "code",
      "execution_count": null,
      "metadata": {
        "colab": {
          "base_uri": "https://localhost:8080/",
          "height": 178
        },
        "id": "5YsWJxhN9_XI",
        "outputId": "f4340189-2045-45b8-b907-38e00f4a0aaa"
      },
      "outputs": [
        {
          "output_type": "execute_result",
          "data": {
            "text/plain": [
              "target\n",
              "1    580\n",
              "0    420\n",
              "Name: count, dtype: int64"
            ],
            "text/html": [
              "<div>\n",
              "<style scoped>\n",
              "    .dataframe tbody tr th:only-of-type {\n",
              "        vertical-align: middle;\n",
              "    }\n",
              "\n",
              "    .dataframe tbody tr th {\n",
              "        vertical-align: top;\n",
              "    }\n",
              "\n",
              "    .dataframe thead th {\n",
              "        text-align: right;\n",
              "    }\n",
              "</style>\n",
              "<table border=\"1\" class=\"dataframe\">\n",
              "  <thead>\n",
              "    <tr style=\"text-align: right;\">\n",
              "      <th></th>\n",
              "      <th>count</th>\n",
              "    </tr>\n",
              "    <tr>\n",
              "      <th>target</th>\n",
              "      <th></th>\n",
              "    </tr>\n",
              "  </thead>\n",
              "  <tbody>\n",
              "    <tr>\n",
              "      <th>1</th>\n",
              "      <td>580</td>\n",
              "    </tr>\n",
              "    <tr>\n",
              "      <th>0</th>\n",
              "      <td>420</td>\n",
              "    </tr>\n",
              "  </tbody>\n",
              "</table>\n",
              "</div><br><label><b>dtype:</b> int64</label>"
            ]
          },
          "metadata": {},
          "execution_count": 38
        }
      ],
      "source": [
        "dataset['target'].value_counts()"
      ]
    },
    {
      "cell_type": "markdown",
      "metadata": {
        "id": "UBsoFWUyOOVz"
      },
      "source": [
        "**No se considera desbalance significativo, ya que ninguna clase tiene entre el 60%-80% de las instancias del conjunto de datos.**\n"
      ]
    },
    {
      "cell_type": "markdown",
      "metadata": {
        "id": "ZgNFE5oiOOVz"
      },
      "source": [
        "### Evalua diferentes algoritmos de ML en crossvalidacion\n",
        "\n",
        "Vamos a evaluar los algoritmos de ML clásicos y compararlo con diferentes algoritmos de ensamble:\n",
        "\n",
        "    - Logistic Regression\n",
        "    - K-Nearest Neighbors\n",
        "    - Classification and Regression Trees\n",
        "    - Random Forest\n",
        "    - Ada Boost\n",
        "    - XGBoost"
      ]
    },
    {
      "cell_type": "code",
      "execution_count": null,
      "metadata": {
        "id": "WfPiDW0_OOV0"
      },
      "outputs": [],
      "source": [
        "# Configuración de los modelos\n",
        "models: dict[str, Any] = {}\n",
        "models = {\n",
        "    \"Logistic Regression\": LogisticRegression(solver='liblinear', class_weight='balanced', random_state=seed),\n",
        "    \"K-Nearest Neighbors\": KNeighborsClassifier(n_neighbors=10),\n",
        "    \"Decision Tree\": DecisionTreeClassifier(max_depth=8, random_state=seed),\n",
        "    \"Random Forest\": RandomForestClassifier(\n",
        "          n_estimators=100,        # Número de árboles\n",
        "          max_depth=8,            # Profundidad máxima de los árboles\n",
        "          random_state=seed        # Asegurar reproducibilidad\n",
        "      ),\n",
        "    \"AdaBoost\": AdaBoostClassifier(n_estimators=60 , random_state=seed),\n",
        "    \"XGBoost\": XGBClassifier(eval_metric='logloss', random_state=seed)\n",
        "}"
      ]
    },
    {
      "cell_type": "markdown",
      "metadata": {
        "id": "fWtFSwNHOOV0"
      },
      "source": [
        "La evaluacion de cada algoritmo se realiza con los datos de training en estrategia de Crossvalidacion con 10-folds. Se usa el mismo particionamiento de folds en cada algoritmo a evaluar para asegurar una comparación justa.\n",
        "\n",
        "\n",
        "Las métricas de evaluacion son"
      ]
    },
    {
      "cell_type": "code",
      "execution_count": null,
      "metadata": {
        "colab": {
          "base_uri": "https://localhost:8080/"
        },
        "id": "CkuBCTHtOOV1",
        "outputId": "2f7423f3-cc40-4e0e-b255-dd09004b1f85"
      },
      "outputs": [
        {
          "output_type": "stream",
          "name": "stdout",
          "text": [
            "                 Model  Mean F1-Score  Std Deviation\n",
            "0  Logistic Regression       0.956033       0.020589\n",
            "1  K-Nearest Neighbors       0.917345       0.031898\n",
            "2        Decision Tree       0.966663       0.022515\n",
            "3        Random Forest       0.975894       0.018831\n",
            "4             AdaBoost       0.973313       0.017921\n",
            "5              XGBoost       0.969244       0.020806\n"
          ]
        }
      ],
      "source": [
        "# Configuración de validación cruzada\n",
        "kfold = 10\n",
        "scorer = make_scorer(f1_score, average='weighted')  # Usar F1-Score ponderado\n",
        "\n",
        "# Evaluar los modelos\n",
        "final_cv_results = []\n",
        "final_cv_names = []\n",
        "\n",
        "for model_name, model in models.items():\n",
        "    pipeline = make_pipeline(MinMaxScaler(), model)\n",
        "    try:\n",
        "        scores = cross_val_score(pipeline, x_train, y_train, cv=kfold, scoring=scorer)\n",
        "        final_cv_results.append(scores)\n",
        "        final_cv_names.append(model_name)\n",
        "    except Exception as e:\n",
        "        print(f\"Error evaluating {model_name}: {e}\")\n",
        "\n",
        "# Resumir los resultados\n",
        "final_cv_summary = pd.DataFrame({\n",
        "    \"Model\": final_cv_names,\n",
        "    \"Mean F1-Score\": [scores.mean() for scores in final_cv_results],\n",
        "    \"Std Deviation\": [scores.std() for scores in final_cv_results]\n",
        "})\n",
        "\n",
        "print(final_cv_summary)"
      ]
    },
    {
      "cell_type": "code",
      "execution_count": null,
      "metadata": {
        "colab": {
          "base_uri": "https://localhost:8080/",
          "height": 559
        },
        "id": "8qEGLQ_3Iq02",
        "outputId": "89330bf2-2d41-49a1-c5f6-a8ca2bb51b8b"
      },
      "outputs": [
        {
          "output_type": "display_data",
          "data": {
            "text/plain": [
              "<Figure size 1400x600 with 1 Axes>"
            ],
            "image/png": "[encoded data removed]"
          },
          "metadata": {}
        }
      ],
      "source": [
        "# Configurar el tamaño del gráfico\n",
        "fig = plt.figure(figsize=(14, 6))  # Cambia los valores para ajustar el tamaño\n",
        "fig.suptitle('F1-Score obtenidas en 10-fold-CV', fontsize=14)\n",
        "\n",
        "# Agregar el gráfico\n",
        "ax = fig.add_subplot(111)\n",
        "plt.boxplot(final_cv_results)\n",
        "\n",
        "# Etiquetas de los ejes\n",
        "ax.set_xticklabels(final_cv_names, fontsize=12)\n",
        "ax.set_ylabel('F1-Score', fontsize=12)\n",
        "\n",
        "# Mostrar el gráfico\n",
        "plt.show()"
      ]
    },
    {
      "cell_type": "markdown",
      "metadata": {
        "id": "tzPMy_fNKMCO"
      },
      "source": [
        "### Entrena el  modelo con el algoritmo seleccionado y lo prueba en datos de validacion\n",
        "\n",
        "Ahora entrenaremos un modelo con el mejor algoritmo RandomForestClassifier(class_weight='balanced', random_state=seed)\n",
        " usando todos los datos de entrenamiento y lo evaluamos en la data separada para validacion"
      ]
    },
    {
      "cell_type": "code",
      "execution_count": null,
      "metadata": {
        "colab": {
          "base_uri": "https://localhost:8080/"
        },
        "id": "AIPm88rzJqyo",
        "outputId": "7a6dacf3-d278-4a67-910a-4f2547257659"
      },
      "outputs": [
        {
          "output_type": "stream",
          "name": "stdout",
          "text": [
            "F1-score: 0.9891696750902527\n",
            "\n",
            "Matriz de Confusión:\n",
            "[[110   2]\n",
            " [  1 137]]\n",
            "\n",
            "Reporte de clasificación en conjunto de prueba: \n",
            "\n",
            "              precision    recall  f1-score   support\n",
            "\n",
            "           0       0.99      0.98      0.99       112\n",
            "           1       0.99      0.99      0.99       138\n",
            "\n",
            "    accuracy                           0.99       250\n",
            "   macro avg       0.99      0.99      0.99       250\n",
            "weighted avg       0.99      0.99      0.99       250\n",
            "\n"
          ]
        }
      ],
      "source": [
        "best_model = RandomForestClassifier(class_weight='balanced', random_state=seed)\n",
        "best_model.fit(x_train, y_train)\n",
        "\n",
        "# Predecir la clase del conjunto de prueba (simula la validación final)\n",
        "y_predicted = best_model.predict(x_test)\n",
        "\n",
        "# Calcular y mostrar el F1-Score\n",
        "print(\"F1-score:\", f1_score(y_test, y_predicted))\n",
        "\n",
        "# Mostrar la matriz de confusión\n",
        "print(\"\\nMatriz de Confusión:\")\n",
        "print(confusion_matrix(y_test, y_predicted))\n",
        "\n",
        "# Mostrar el reporte de clasificación en el conjunto de prueba\n",
        "print(\"\\nReporte de clasificación en conjunto de prueba: \\n\")\n",
        "print(classification_report(y_test, y_predicted))"
      ]
    },
    {
      "cell_type": "markdown",
      "source": [
        "### Cargar los modelos\n",
        "\n",
        "Se cargan y configuran todos los modelos previamente definidos, permitiendo llevar a cabo un análisis  para la selección de los atributos más relevantes en función del desempeño de cada uno de ellos.\n"
      ],
      "metadata": {
        "id": "GD-R4aNIwbl1"
      }
    },
    {
      "cell_type": "code",
      "source": [
        "# Configuración de los modelos\n",
        "models: dict[str, Any] = {}\n",
        "models = {\n",
        "    \"Logistic Regression\": LogisticRegression(solver='liblinear', class_weight='balanced', random_state=seed),\n",
        "    \"K-Nearest Neighbors\": KNeighborsClassifier(n_neighbors=10),\n",
        "    \"Decision Tree\": DecisionTreeClassifier(max_depth=8, random_state=seed),\n",
        "    \"Random Forest\": RandomForestClassifier(\n",
        "          n_estimators=100,        # Número de árboles\n",
        "          max_depth=8,            # Profundidad máxima de los árboles\n",
        "          random_state=seed        # Asegurar reproducibilidad\n",
        "      ),\n",
        "    \"AdaBoost\": AdaBoostClassifier(n_estimators=60 , random_state=seed),\n",
        "    \"XGBoost\": XGBClassifier(eval_metric='logloss', random_state=seed)\n",
        "}"
      ],
      "metadata": {
        "id": "-mM35O3XfjAp"
      },
      "execution_count": null,
      "outputs": []
    },
    {
      "cell_type": "markdown",
      "source": [
        "#Selección de atributos"
      ],
      "metadata": {
        "id": "ss1Y93I40Vz8"
      }
    },
    {
      "cell_type": "code",
      "source": [
        "# Obtener las puntuaciones de relevancia para cada atributo\n",
        "relief = ReliefF(n_neighbors=30)\n",
        "relief.fit(x_train.values, y_train.values)\n",
        "feature_scores = pd.DataFrame({\n",
        "    'Feature': x_train.columns,\n",
        "    'Score': relief.feature_importances_\n",
        "}).sort_values(by='Score', ascending=False)\n",
        "\n",
        "print(feature_scores)"
      ],
      "metadata": {
        "colab": {
          "base_uri": "https://localhost:8080/"
        },
        "id": "0J1kYKJ8fkt7",
        "outputId": "7fcc3aef-9149-4679-cbe4-2ffd1893b8d8"
      },
      "execution_count": null,
      "outputs": [
        {
          "output_type": "stream",
          "name": "stdout",
          "text": [
            "              Feature     Score\n",
            "10              slope  0.592089\n",
            "3           restingBP  0.241917\n",
            "11   noofmajorvessels  0.238267\n",
            "2           chestpain  0.229467\n",
            "4     serumcholestrol  0.098540\n",
            "6     restingrelectro  0.084800\n",
            "5   fastingbloodsugar  0.055422\n",
            "7        maxheartrate  0.044122\n",
            "9             oldpeak  0.042497\n",
            "1              gender  0.025867\n",
            "0                 age  0.006559\n",
            "8       exerciseangia -0.035111\n"
          ]
        }
      ]
    },
    {
      "cell_type": "markdown",
      "source": [
        "Ahora obtendremos el número óptimo de atributos evaluando cada algorimo debido a la imporntacia de cada atributo"
      ],
      "metadata": {
        "id": "MWa7tFyu0pCv"
      }
    },
    {
      "cell_type": "code",
      "source": [
        "# Configuración de validación cruzada y métrica\n",
        "kfold = 10  # Número de particiones\n",
        "scorer = make_scorer(f1_score, average='weighted')  # Usar F1-Score ponderado\n",
        "\n",
        "# Rango de características a evaluar\n",
        "features_to_test = list(range(4, 13))  # Probar entre 4 y 12 características\n",
        "results_per_feature = {k: [] for k in features_to_test}  # Resultados por cantidad de características\n",
        "\n",
        "# Evaluar diferentes cantidades de características para todos los modelos\n",
        "for k in features_to_test:\n",
        "    # Seleccionar las k características más importantes según ReliefF\n",
        "    selected_features = feature_scores['Feature'][:k].tolist()\n",
        "\n",
        "    for model_name, model in models.items():\n",
        "        pipeline = make_pipeline(MinMaxScaler(), model)  # Crear pipeline con escalado\n",
        "        try:\n",
        "            # Validación cruzada\n",
        "            scores = cross_val_score(pipeline, x_train[selected_features], y_train, cv=kfold, scoring=scorer)\n",
        "            f1_mean = scores.mean()  # F1-Score promedio\n",
        "            results_per_feature[k].append(f1_mean)  # Guardar resultados\n",
        "        except Exception as e:\n",
        "            print(f\"Error with model {model_name} and {k} features: {e}\")\n",
        "            results_per_feature[k].append(0)  # Penalizar errores con 0\n",
        "\n",
        "# Calcular el F1-Score promedio para cada cantidad de características\n",
        "average_f1_scores = {k: np.mean(scores) for k, scores in results_per_feature.items()}\n",
        "\n",
        "# Determinar la cantidad óptima de características\n",
        "optimal_features_count = max(average_f1_scores, key=average_f1_scores.get)\n",
        "print(f\"Número óptimo de características: {optimal_features_count}\")\n",
        "\n",
        "# Seleccionar las características óptimas\n",
        "optimal_features = feature_scores['Feature'][:optimal_features_count].tolist()\n",
        "print(f\"Características seleccionadas: {optimal_features}\")"
      ],
      "metadata": {
        "id": "BTF8mQV2fmaN",
        "colab": {
          "base_uri": "https://localhost:8080/"
        },
        "outputId": "24aa7c44-de29-4442-97c2-2157e7411550"
      },
      "execution_count": null,
      "outputs": [
        {
          "output_type": "stream",
          "name": "stdout",
          "text": [
            "Número óptimo de características: 10\n",
            "Características seleccionadas: ['slope', 'restingBP', 'noofmajorvessels', 'chestpain', 'serumcholestrol', 'restingrelectro', 'fastingbloodsugar', 'maxheartrate', 'oldpeak', 'gender']\n"
          ]
        }
      ]
    },
    {
      "cell_type": "markdown",
      "source": [
        "#Agregamos el atributo de Age\n",
        "Inicialmente se seleccionaron los 10 atributos más significativos, pero se incluyó la edad debido a su destacada importancia en la predicción de enfermedades cardiovasculares, respaldada por libros y guías médicas (Ghosh et al., 2021)."
      ],
      "metadata": {
        "id": "zkv__sy52ggp"
      }
    },
    {
      "cell_type": "code",
      "source": [
        "# Configuración de validación cruzada y métrica\n",
        "kfold = 10  # Número de particiones\n",
        "scorer = make_scorer(f1_score, average='weighted')  # Usar F1-Score ponderado\n",
        "\n",
        "# Rango de características a evaluar\n",
        "features_to_test = list(range(4, 13))  # Probar entre 4 y 12 características\n",
        "results_per_feature = {k: [] for k in features_to_test}  # Resultados por cantidad de características\n",
        "\n",
        "# Evaluar diferentes cantidades de características para todos los modelos\n",
        "for k in features_to_test:\n",
        "    # Seleccionar las k características más importantes según ReliefF\n",
        "    selected_features = feature_scores['Feature'][:k].tolist()\n",
        "    if \"age\" not in selected_features:\n",
        "            selected_features[-1] = \"age\"  # Asegurar que \"age\" esté incluida\n",
        "\n",
        "    for model_name, model in models.items():\n",
        "        pipeline = make_pipeline(MinMaxScaler(), model)  # Crear pipeline con escalado\n",
        "        try:\n",
        "            # Validación cruzada\n",
        "            scores = cross_val_score(pipeline, x_train[selected_features], y_train, cv=kfold, scoring=scorer)\n",
        "            f1_mean = scores.mean()  # F1-Score promedio\n",
        "            results_per_feature[k].append(f1_mean)  # Guardar resultados\n",
        "        except Exception as e:\n",
        "            print(f\"Error with model {model_name} and {k} features: {e}\")\n",
        "            results_per_feature[k].append(0)  # Penalizar errores con 0\n",
        "\n",
        "# Calcular el F1-Score promedio para cada cantidad de características\n",
        "average_f1_scores = {k: np.mean(scores) for k, scores in results_per_feature.items()}\n",
        "\n",
        "# Determinar la cantidad óptima de características\n",
        "optimal_features_count = max(average_f1_scores, key=average_f1_scores.get)\n",
        "print(f\"Número óptimo de características: {optimal_features_count}\")\n",
        "\n",
        "# Seleccionar las características óptimas\n",
        "optimal_features = feature_scores['Feature'][:optimal_features_count].tolist()\n",
        "print(f\"Características seleccionadas: {optimal_features}\")"
      ],
      "metadata": {
        "id": "Dy4p-1hG1ZoV",
        "colab": {
          "base_uri": "https://localhost:8080/"
        },
        "outputId": "f9f383a3-250d-48bf-fb21-8aa34d4cb377"
      },
      "execution_count": null,
      "outputs": [
        {
          "output_type": "stream",
          "name": "stdout",
          "text": [
            "Número óptimo de características: 11\n",
            "Características seleccionadas: ['slope', 'restingBP', 'noofmajorvessels', 'chestpain', 'serumcholestrol', 'restingrelectro', 'fastingbloodsugar', 'maxheartrate', 'oldpeak', 'gender', 'age']\n"
          ]
        }
      ]
    },
    {
      "cell_type": "markdown",
      "source": [
        "En base a los resultados obtenidos, la cantidad de características que maximizan la métrica de F1-Score en promedio es 11."
      ],
      "metadata": {
        "id": "fWc9gSow06g1"
      }
    },
    {
      "cell_type": "markdown",
      "source": [
        "#Evaluación de los modelos según las características seleccionadas\n",
        "Se evaluarán los modelos utilizando las características seleccionadas que obtuvieron los mejores resultados durante el proceso de selección. Posteriormente, se analizarán sus métricas para comparar el desempeño de cada modelo."
      ],
      "metadata": {
        "id": "f1M0H4oLGL3d"
      }
    },
    {
      "cell_type": "code",
      "source": [
        "from sklearn.metrics import f1_score, accuracy_score, recall_score, precision_score\n",
        "\n",
        "optimal_features = feature_scores['Feature'][:optimal_features_count].tolist()\n",
        "# Filtrar las características en ambos conjuntos\n",
        "X_train_selected = x_train[optimal_features]\n",
        "X_test_selected = x_test[optimal_features]\n",
        "\n",
        "# Entrenar y evaluar cada modelo\n",
        "model_results = {}\n",
        "\n",
        "for model_name, model in models.items():\n",
        "    pipeline = make_pipeline(MinMaxScaler(), model)  # Crear pipeline con escalado\n",
        "    pipeline.fit(X_train_selected, y_train)  # Entrenar el modelo\n",
        "    y_pred = pipeline.predict(X_test_selected)  # Predicciones\n",
        "\n",
        "    # Calcular métricas\n",
        "    f1_metric = f1_score(y_test, y_pred, average='weighted')\n",
        "    accuracy_metric = accuracy_score(y_test, y_pred)\n",
        "    recall_metric = recall_score(y_test, y_pred, average='weighted')\n",
        "    precision_metric = precision_score(y_test, y_pred, average='weighted')\n",
        "\n",
        "    # Guardar resultados\n",
        "    model_results[model_name] = {\n",
        "        'F1-Score': f1_metric,\n",
        "        'Accuracy': accuracy_metric,\n",
        "        'Recall': recall_metric,\n",
        "        'Precision': precision_metric\n",
        "    }\n",
        "\n",
        "# Mostrar resultados finales\n",
        "print(\"Resultados por modelo:\")\n",
        "for model_name, metrics in model_results.items():\n",
        "    print(f\"{model_name}:\")\n",
        "    print(f\"  F1-Score: {metrics['F1-Score']:.4f}\")\n",
        "\n",
        "# Determinar el mejor modelo basado en F1-Score\n",
        "best_model = max(model_results, key=lambda k: model_results[k]['F1-Score'])\n",
        "print(f\"\\nEl mejor modelo basado en F1-Score es: {best_model}\")"
      ],
      "metadata": {
        "id": "yNKVmtoS2SaV",
        "colab": {
          "base_uri": "https://localhost:8080/"
        },
        "outputId": "f8efbb78-e44d-4313-cf28-a986c2b84de5"
      },
      "execution_count": null,
      "outputs": [
        {
          "output_type": "stream",
          "name": "stdout",
          "text": [
            "Resultados por modelo:\n",
            "Logistic Regression:\n",
            "  F1-Score: 0.9680\n",
            "K-Nearest Neighbors:\n",
            "  F1-Score: 0.9359\n",
            "Decision Tree:\n",
            "  F1-Score: 0.9680\n",
            "Random Forest:\n",
            "  F1-Score: 0.9920\n",
            "AdaBoost:\n",
            "  F1-Score: 0.9760\n",
            "XGBoost:\n",
            "  F1-Score: 0.9680\n",
            "\n",
            "El mejor modelo basado en F1-Score es: Random Forest\n"
          ]
        }
      ]
    },
    {
      "cell_type": "code",
      "source": [
        "import matplotlib.pyplot as plt\n",
        "\n",
        "# Diccionario para renombrar los modelos\n",
        "short_names = {\n",
        "    \"Logistic Regression\": \"LogReg\",\n",
        "    \"K-Nearest Neighbors\": \"KNN\",\n",
        "    \"Decision Tree\": \"DecTree\",\n",
        "    \"Random Forest\": \"RandFor\",\n",
        "    \"AdaBoost\": \"AdaBoost\",\n",
        "    \"XGBoost\": \"XGBoost\"\n",
        "}\n",
        "\n",
        "# Iterar sobre las métricas en el diccionario y graficar\n",
        "for metric in [\"F1-Score\", \"Accuracy\", \"Recall\", \"Precision\"]:\n",
        "    # Extraer los valores de la métrica actual para todos los modelos\n",
        "    values = [model_results[model][metric] for model in model_results.keys()]\n",
        "    model_names = [short_names[model] for model in model_results.keys()]  # Usar nombres cortos\n",
        "\n",
        "    # Crear el gráfico\n",
        "    plt.figure(figsize=(4, 4))\n",
        "    bars = plt.bar(model_names, values, color='skyblue', alpha=0.8)\n",
        "\n",
        "    # Agregar etiquetas con los valores exactos\n",
        "    for bar in bars:\n",
        "        yval = bar.get_height()\n",
        "        plt.text(bar.get_x() + bar.get_width()/2, yval, f\"{yval:.4f}\",\n",
        "                 ha='center', va='bottom', fontsize=8)\n",
        "\n",
        "    # Configuración del gráfico\n",
        "    plt.title(f\"Comparación de {metric} por Modelo\", fontsize=12)\n",
        "    plt.xlabel(\"Modelos\", fontsize=10)\n",
        "    plt.ylabel(metric, fontsize=10)\n",
        "    plt.ylim(0.9, 1.0)  # Ajustar el rango de la gráfica\n",
        "    plt.xticks(rotation=90, ha='right', fontsize=9)\n",
        "    plt.grid(axis='y', linestyle='--', alpha=0.7)\n",
        "    plt.tight_layout()\n",
        "    plt.show()"
      ],
      "metadata": {
        "id": "5BpvnEvpfxpS",
        "colab": {
          "base_uri": "https://localhost:8080/",
          "height": 1000
        },
        "outputId": "e5b90de7-7561-4c2f-80d6-9a0f0de7be4f"
      },
      "execution_count": null,
      "outputs": [
        {
          "output_type": "display_data",
          "data": {
            "text/plain": [
              "<Figure size 400x400 with 1 Axes>"
            ],
            "image/png": "[encoded data removed]"
          },
          "metadata": {}
        },
        {
          "output_type": "display_data",
          "data": {
            "text/plain": [
              "<Figure size 400x400 with 1 Axes>"
            ],
            "image/png": "[encoded data removed]"
          },
          "metadata": {}
        },
        {
          "output_type": "display_data",
          "data": {
            "text/plain": [
              "<Figure size 400x400 with 1 Axes>"
            ],
            "image/png": "[encoded data removed]"
          },
          "metadata": {}
        },
        {
          "output_type": "display_data",
          "data": {
            "text/plain": [
              "<Figure size 400x400 with 1 Axes>"
            ],
            "image/png": "[encoded data removed]"
          },
          "metadata": {}
        }
      ]
    }
  ],
  "metadata": {
    "colab": {
      "provenance": []
    },
    "kernelspec": {
      "display_name": "Python 3",
      "language": "python",
      "name": "python3"
    },
    "language_info": {
      "codemirror_mode": {
        "name": "ipython",
        "version": 3
      },
      "file_extension": ".py",
      "mimetype": "text/x-python",
      "name": "python",
      "nbconvert_exporter": "python",
      "pygments_lexer": "ipython3",
      "version": "3.8.3"
    }
  },
  "nbformat": 4,
  "nbformat_minor": 0
}
